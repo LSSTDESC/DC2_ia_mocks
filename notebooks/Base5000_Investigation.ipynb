{
 "cells": [
  {
   "cell_type": "markdown",
   "metadata": {},
   "source": [
    "# Investigation of halo alignments in Base5000\n",
    "\n",
    "In this notebook, we try to compare halo alignments in Base5000 compared to other reference simulations.\n",
    "\n",
    "We already know the following things:\n",
    "  - The halo shape information provided is obtained from 2 sources. The shapes of halos with masses of  >~ 10^13 are computed directly from their particle content. The shapes of halos with lower masses are modeled.  The model depends on the halo mass.\n",
    "  - ultra-faint galaxies have a negative `halo id`, and they are just sprinkled to compensate for resolution effects in the simulation, they do not come from halos identified in the original simulation.\n",
    "\n",
    "So we might want to compare the halo orientations in different mass bins above and below 10^13 to see if we find a discrepancy "
   ]
  },
  {
   "cell_type": "markdown",
   "metadata": {},
   "source": [
    "## Step I: Loading the catalog"
   ]
  },
  {
   "cell_type": "code",
   "execution_count": 7,
   "metadata": {},
   "outputs": [
    {
     "name": "stdout",
     "output_type": "stream",
     "text": [
      "Populating the interactive namespace from numpy and matplotlib\n"
     ]
    }
   ],
   "source": [
    "%pylab inline\n",
    "import GCRCatalogs\n",
    "from astropy.table import Table\n",
    "cat = GCRCatalogs.load_catalog('base5000_v1.1.1_small')"
   ]
  },
  {
   "cell_type": "code",
   "execution_count": 2,
   "metadata": {},
   "outputs": [
    {
     "data": {
      "text/plain": [
       "['restframe_extincted_sdss_abs_magg',\n",
       " 'restframe_extincted_sdss_ri',\n",
       " 'target_halo_redshift',\n",
       " 'mvir',\n",
       " 'target_halo_axis_A_y',\n",
       " 'z',\n",
       " 'host_centric_x',\n",
       " 'x',\n",
       " 'source_halo_id',\n",
       " 'target_halo_axis_A_z',\n",
       " 'target_halo_vx',\n",
       " 'source_halo_mvir',\n",
       " 'vy',\n",
       " 'target_halo_z',\n",
       " 'lightcone_id',\n",
       " 'redshift',\n",
       " 'sfr',\n",
       " 'target_halo_y',\n",
       " 'lightcone_replication',\n",
       " 'is_on_red_sequence_ri',\n",
       " 'target_halo_mass',\n",
       " 'target_halo_axis_B_length',\n",
       " 'target_halo_vy',\n",
       " 'obs_sm',\n",
       " 'host_centric_vz',\n",
       " 'target_halo_axis_A_length',\n",
       " 'lightcone_rotation',\n",
       " 'vmax',\n",
       " 'restframe_extincted_sdss_abs_magr',\n",
       " 'host_centric_z',\n",
       " 'target_halo_id',\n",
       " 'host_halo_y',\n",
       " 'is_on_red_sequence_gr',\n",
       " 'host_halo_vx',\n",
       " 'mpeak',\n",
       " 'target_halo_axis_C_length',\n",
       " 'obs_sfr',\n",
       " 'restframe_extincted_sdss_gr',\n",
       " 'vx',\n",
       " 'sod_halo_cdelta',\n",
       " 'sfr_percentile',\n",
       " 'halo_id',\n",
       " 'target_halo_vz',\n",
       " 'vz',\n",
       " 'ra',\n",
       " 'target_halo_prolaticity',\n",
       " 'host_halo_mvir',\n",
       " 'target_halo_fof_halo_id',\n",
       " 'target_halo_x',\n",
       " 'host_centric_vy',\n",
       " '_obs_sm_orig_um_snap',\n",
       " 'restframe_extincted_sdss_abs_magi',\n",
       " 'galaxy_id',\n",
       " 'host_halo_x',\n",
       " 'hostid',\n",
       " 'vpeak',\n",
       " 'sod_halo_radius',\n",
       " 'obs_sfr_percentile',\n",
       " 'upid',\n",
       " 'host_halo_vz',\n",
       " 'sm',\n",
       " 'dec',\n",
       " 'sod_halo_cdelta_error',\n",
       " 'target_halo_axis_A_x',\n",
       " 'y',\n",
       " 'host_centric_y',\n",
       " 'host_centric_vx',\n",
       " 'host_halo_z',\n",
       " 'target_halo_ellipticity',\n",
       " 'host_halo_vy',\n",
       " 'sod_halo_mass']"
      ]
     },
     "execution_count": 2,
     "metadata": {},
     "output_type": "execute_result"
    }
   ],
   "source": [
    "# The full list of native fields can be retrieved like so:\n",
    "cat.list_all_native_quantities()"
   ]
  },
  {
   "cell_type": "code",
   "execution_count": 8,
   "metadata": {},
   "outputs": [],
   "source": [
    "# Let's retrieve the fields that are relevant\n",
    "data = Table(cat.get_quantities(['target_halo_axis_A_x','target_halo_axis_A_y','target_halo_axis_A_z', # Orientation of major axis\n",
    "                           'target_halo_axis_A_length', 'target_halo_axis_B_length','target_halo_axis_C_length', # Shape information\n",
    "                           'halo_mass', # Mass of halos\n",
    "                           'target_halo_x', 'target_halo_y', 'target_halo_z', # Halo positions\n",
    "                           'x','y','z', # Galaxy positions\n",
    "                           'redshift', \n",
    "                           'halo_id', \n",
    "                           'is_central']))"
   ]
  },
  {
   "cell_type": "code",
   "execution_count": 4,
   "metadata": {},
   "outputs": [],
   "source": [
    "# Do we have halo shapes for everybody?\n",
    "m = (data['is_central']) # Looking only at centrals\n",
    "m2 = (data['is_central']) & (abs(data['target_halo_axis_A_x']) > 0) # Looking at centrals with non zero major axis\n",
    "m3 = m & (data['halo_id']>0) # Centrals with positive halo_id i.e. coming from actually identified halos"
   ]
  },
  {
   "cell_type": "code",
   "execution_count": 5,
   "metadata": {},
   "outputs": [
    {
     "data": {
      "text/plain": [
       "Text(0, 0.5, 'log10(halo_mass)')"
      ]
     },
     "execution_count": 5,
     "metadata": {},
     "output_type": "execute_result"
    },
    {
     "data": {
      "image/png": "[encoded data removed]",
      "text/plain": [
       "<Figure size 432x288 with 1 Axes>"
      ]
     },
     "metadata": {
      "needs_background": "light"
     },
     "output_type": "display_data"
    }
   ],
   "source": [
    "hist(log10(data['halo_mass'][m]),64,range=[9.5,13], label='all centrals');\n",
    "hist(log10(data['halo_mass'][m3]),64,range=[9.5,13], label='centrals with halo_id>0',alpha=0.5);\n",
    "hist(log10(data['halo_mass'][m2]),64,range=[9.5,13], label='centrals with shapes', alpha=0.5);\n",
    "legend();\n",
    "ylabel('log10(halo_mass)')"
   ]
  },
  {
   "cell_type": "markdown",
   "metadata": {},
   "source": [
    "Ok, so we see that indeed only the centrals with positive halo id have actual shapes, these correspond to actual halos."
   ]
  },
  {
   "cell_type": "markdown",
   "metadata": {},
   "source": [
    "## Measuring halo alignment signal\n",
    "\n",
    "Let's retain only actual halos, and compute their alignment signal in 3D in different mass bins."
   ]
  },
  {
   "cell_type": "code",
   "execution_count": 164,
   "metadata": {},
   "outputs": [],
   "source": [
    "# Let's select a subset of halos at redshift close to 0\n",
    "mask = (data['redshift'] < 0.87) & (data['redshift'] > 0.81)\n",
    "mask &= (log10(data['halo_id'])> 0)\n",
    "mask &= (data['is_central'])\n",
    "\n",
    "halo_catalog = data[mask]"
   ]
  },
  {
   "cell_type": "code",
   "execution_count": 165,
   "metadata": {},
   "outputs": [
    {
     "data": {
      "text/html": [
       "<i>Table length=595619</i>\n",
       "<table id=\"table46913324738000\" class=\"table-striped table-bordered table-condensed\">\n",
       "<thead><tr><th>target_halo_axis_A_length</th><th>target_halo_axis_B_length</th><th>target_halo_axis_A_z</th><th>target_halo_axis_A_x</th><th>halo_id</th><th>target_halo_axis_A_y</th><th>target_halo_axis_C_length</th><th>target_halo_z</th><th>y</th><th>z</th><th>halo_mass</th><th>redshift</th><th>target_halo_y</th><th>target_halo_x</th><th>is_central</th><th>x</th></tr></thead>\n",
       "<thead><tr><th>float64</th><th>float64</th><th>float64</th><th>float64</th><th>int64</th><th>float64</th><th>float64</th><th>float64</th><th>float64</th><th>float64</th><th>float64</th><th>float64</th><th>float64</th><th>float64</th><th>bool</th><th>float64</th></tr></thead>\n",
       "<tr><td>0.08688044548034668</td><td>0.07720333337783813</td><td>-0.010039080515158253</td><td>-0.06442041426768372</td><td>3010070259</td><td>-0.05742333057959693</td><td>0.05965922027826309</td><td>-1365.673828125</td><td>1416.9693603515625</td><td>-1365.673828125</td><td>127534625171.831</td><td>0.8647127151489258</td><td>1416.9693603515625</td><td>771.21435546875</td><td>True</td><td>771.21435546875</td></tr>\n",
       "<tr><td>0.07209569960832596</td><td>0.06448052078485489</td><td>-0.03325767976351008</td><td>-0.008947526717666679</td><td>14410070259</td><td>0.0633376539224372</td><td>0.049945373088121414</td><td>-1353.18359375</td><td>1453.3543701171875</td><td>-1353.18359375</td><td>72876914659.15494</td><td>0.8699823617935181</td><td>1453.3543701171875</td><td>752.957763671875</td><td>True</td><td>752.957763671875</td></tr>\n",
       "<tr><td>0.14397653937339783</td><td>0.12281820923089981</td><td>-0.11498378625434683</td><td>-0.00380136960514205</td><td>21110070259</td><td>0.08656513372992244</td><td>0.09355628490447998</td><td>-1354.47802734375</td><td>1426.4178466796875</td><td>-1354.47802734375</td><td>580412845791.5493</td><td>0.866919755935669</td><td>1426.4178466796875</td><td>784.9921264648438</td><td>True</td><td>784.9921264648438</td></tr>\n",
       "<tr><td>0.11807513236999512</td><td>0.1029086783528328</td><td>-0.1038888393771687</td><td>0.00871341774628643</td><td>21910070259</td><td>0.05543394527034329</td><td>0.07897590845823288</td><td>-1399.018798828125</td><td>1398.423583984375</td><td>-1399.018798828125</td><td>320138006354.92957</td><td>0.8657543659210205</td><td>1398.423583984375</td><td>750.4796142578125</td><td>True</td><td>750.4796142578125</td></tr>\n",
       "<tr><td>0.12328192591667175</td><td>0.10702185332775116</td><td>0.01726498551400753</td><td>-0.07786978466150032</td><td>27510070259</td><td>0.09400345828583341</td><td>0.08201878517866135</td><td>-1369.0025634765625</td><td>1416.533203125</td><td>-1369.0025634765625</td><td>364384729059.15497</td><td>0.8676682710647583</td><td>1416.533203125</td><td>781.5480346679688</td><td>True</td><td>781.5480346679688</td></tr>\n",
       "<tr><td>0.08317884057760239</td><td>0.07404589653015137</td><td>-0.028682141634566987</td><td>-0.029972316457989527</td><td>27610070259</td><td>-0.07209517679589227</td><td>0.05725637078285217</td><td>-1361.1962890625</td><td>1426.654052734375</td><td>-1361.1962890625</td><td>111918134805.6338</td><td>0.8658852577209473</td><td>1426.654052734375</td><td>767.4140625</td><td>True</td><td>767.4140625</td></tr>\n",
       "<tr><td>0.06942299753427505</td><td>0.06215113028883934</td><td>-0.002231211402628516</td><td>-0.06570996380466347</td><td>27710070259</td><td>0.022288448557729566</td><td>0.04815851151943207</td><td>-1379.7781982421875</td><td>1412.1368408203125</td><td>-1379.7781982421875</td><td>65068669476.05634</td><td>0.8665608167648315</td><td>1412.1368408203125</td><td>764.6369018554688</td><td>True</td><td>764.6369018554688</td></tr>\n",
       "<tr><td>0.0644465982913971</td><td>0.05779308080673218</td><td>0.027506091565573598</td><td>-0.046939153681696946</td><td>27810070259</td><td>-0.03454699422185705</td><td>0.044809505343437195</td><td>-1365.9202880859375</td><td>1431.63818359375</td><td>-1365.9202880859375</td><td>52054927504.22536</td><td>0.8666746616363525</td><td>1431.63818359375</td><td>753.7781372070312</td><td>True</td><td>753.7781372070312</td></tr>\n",
       "<tr><td>0.10639900714159012</td><td>0.09349162876605988</td><td>0.018697620476520422</td><td>0.07179077372200883</td><td>27910070259</td><td>-0.07627078416816938</td><td>0.07195557653903961</td><td>-1382.690673828125</td><td>1407.953125</td><td>-1382.690673828125</td><td>234247309340.8451</td><td>0.864875078201294</td><td>1407.953125</td><td>758.145751953125</td><td>True</td><td>758.145751953125</td></tr>\n",
       "<tr><td>0.0798211321234703</td><td>0.07116500288248062</td><td>-0.05920563559617373</td><td>-0.04992527410360867</td><td>28110070259</td><td>-0.019328032822952545</td><td>0.055059242993593216</td><td>-1360.7110595703125</td><td>1420.4735107421875</td><td>-1360.7110595703125</td><td>98904392833.80283</td><td>0.8657028675079346</td><td>1420.4735107421875</td><td>778.696044921875</td><td>True</td><td>778.696044921875</td></tr>\n",
       "<tr><td>...</td><td>...</td><td>...</td><td>...</td><td>...</td><td>...</td><td>...</td><td>...</td><td>...</td><td>...</td><td>...</td><td>...</td><td>...</td><td>...</td><td>...</td><td>...</td></tr>\n",
       "<tr><td>0.06932525336742401</td><td>0.04725001007318497</td><td>-0.000840930120763218</td><td>0.05919603543916601</td><td>2381709943272</td><td>0.03607094369814199</td><td>0.038114164024591446</td><td>-1302.6260986328125</td><td>1427.6142578125</td><td>-1302.6260986328125</td><td>57260424292.95775</td><td>0.8239115476608276</td><td>1427.6142578125</td><td>636.427978515625</td><td>True</td><td>636.427978515625</td></tr>\n",
       "<tr><td>0.07601220160722733</td><td>0.051613934338092804</td><td>-0.04485310322416849</td><td>-0.008881408608175947</td><td>2381909943272</td><td>-0.06072210886880063</td><td>0.04160035401582718</td><td>-1302.339599609375</td><td>1432.853271484375</td><td>-1302.339599609375</td><td>75479663053.52113</td><td>0.8239327669143677</td><td>1432.853271484375</td><td>625.2760620117188</td><td>True</td><td>625.2760620117188</td></tr>\n",
       "<tr><td>0.0824425145983696</td><td>0.055753882974386215</td><td>-0.04814375287672862</td><td>0.05231304403608131</td><td>2382009943272</td><td>-0.041740779771416436</td><td>0.04489728435873985</td><td>-1282.2371826171875</td><td>1444.2685546875</td><td>-1282.2371826171875</td><td>96301650208.45071</td><td>0.821786642074585</td><td>1444.2685546875</td><td>626.8720092773438</td><td>True</td><td>626.8720092773438</td></tr>\n",
       "<tr><td>0.07687605172395706</td><td>0.0521734282374382</td><td>-0.0424078305190751</td><td>-0.05611059428656137</td><td>2382109943272</td><td>-0.03103392414985302</td><td>0.04204653576016426</td><td>-1265.45458984375</td><td>1448.627685546875</td><td>-1265.45458984375</td><td>78082411447.88733</td><td>0.8234659433364868</td><td>1448.627685546875</td><td>660.6854858398438</td><td>True</td><td>660.6854858398438</td></tr>\n",
       "<tr><td>0.06715740263462067</td><td>0.04582338035106659</td><td>0.012838385822320147</td><td>-0.05071728362047528</td><td>2382209943272</td><td>0.042107596942429215</td><td>0.03697230666875839</td><td>-1269.6007080078125</td><td>1451.6922607421875</td><td>-1269.6007080078125</td><td>52054927504.22536</td><td>0.8202000856399536</td><td>1451.6922607421875</td><td>625.3598022460938</td><td>True</td><td>625.3598022460938</td></tr>\n",
       "<tr><td>0.09947679936885834</td><td>0.06641774624586105</td><td>0.052889312259033934</td><td>0.05025503208125569</td><td>2382309943272</td><td>0.06762237804122581</td><td>0.05333348363637924</td><td>-1243.121826171875</td><td>1468.1083984375</td><td>-1243.121826171875</td><td>169178599481.69016</td><td>0.8202955722808838</td><td>1468.1083984375</td><td>640.6532592773438</td><td>True</td><td>640.6532592773438</td></tr>\n",
       "<tr><td>0.08169299364089966</td><td>0.055274344980716705</td><td>0.035216590911575786</td><td>-0.034415167635202824</td><td>2382409943272</td><td>0.06518537543973861</td><td>0.044515952467918396</td><td>-1244.610595703125</td><td>1473.0067138671875</td><td>-1244.610595703125</td><td>93698901814.08452</td><td>0.8224611282348633</td><td>1473.0067138671875</td><td>639.9891967773438</td><td>True</td><td>639.9891967773438</td></tr>\n",
       "<tr><td>0.07422301173210144</td><td>0.05045193433761597</td><td>-0.04397986127362772</td><td>-0.01757333930296426</td><td>2382509943272</td><td>-0.0571489721576777</td><td>0.04067310318350792</td><td>-1281.2149658203125</td><td>1436.5521240234375</td><td>-1281.2149658203125</td><td>70274166264.78874</td><td>0.8213889598846436</td><td>1436.5521240234375</td><td>643.9320678710938</td><td>True</td><td>643.9320678710938</td></tr>\n",
       "<tr><td>0.09114663302898407</td><td>0.06126072257757187</td><td>0.08659977349898824</td><td>0.00889008938630862</td><td>2382609943272</td><td>0.02700285638867981</td><td>0.04926478490233421</td><td>-1297.0576171875</td><td>1428.72216796875</td><td>-1297.0576171875</td><td>130137373566.19719</td><td>0.8208309412002563</td><td>1428.72216796875</td><td>625.9315795898438</td><td>True</td><td>625.9315795898438</td></tr>\n",
       "<tr><td>0.06932525336742401</td><td>0.04725001007318497</td><td>0.04155752836871663</td><td>0.0451442317828027</td><td>2382709943272</td><td>0.03226392609527604</td><td>0.038114164024591446</td><td>-1287.6220703125</td><td>1433.0552978515625</td><td>-1287.6220703125</td><td>57260424292.95775</td><td>0.819184422492981</td><td>1433.0552978515625</td><td>625.0316162109375</td><td>True</td><td>625.0316162109375</td></tr>\n",
       "</table>"
      ],
      "text/plain": [
       "<Table length=595619>\n",
       "target_halo_axis_A_length target_halo_axis_B_length ...         x        \n",
       "         float64                   float64          ...      float64     \n",
       "------------------------- ------------------------- ... -----------------\n",
       "      0.08688044548034668       0.07720333337783813 ...   771.21435546875\n",
       "      0.07209569960832596       0.06448052078485489 ...  752.957763671875\n",
       "      0.14397653937339783       0.12281820923089981 ... 784.9921264648438\n",
       "      0.11807513236999512        0.1029086783528328 ... 750.4796142578125\n",
       "      0.12328192591667175       0.10702185332775116 ... 781.5480346679688\n",
       "      0.08317884057760239       0.07404589653015137 ...       767.4140625\n",
       "      0.06942299753427505       0.06215113028883934 ... 764.6369018554688\n",
       "       0.0644465982913971       0.05779308080673218 ... 753.7781372070312\n",
       "      0.10639900714159012       0.09349162876605988 ...  758.145751953125\n",
       "       0.0798211321234703       0.07116500288248062 ...  778.696044921875\n",
       "                      ...                       ... ...               ...\n",
       "      0.06932525336742401       0.04725001007318497 ...  636.427978515625\n",
       "      0.07601220160722733      0.051613934338092804 ... 625.2760620117188\n",
       "       0.0824425145983696      0.055753882974386215 ... 626.8720092773438\n",
       "      0.07687605172395706        0.0521734282374382 ... 660.6854858398438\n",
       "      0.06715740263462067       0.04582338035106659 ... 625.3598022460938\n",
       "      0.09947679936885834       0.06641774624586105 ... 640.6532592773438\n",
       "      0.08169299364089966      0.055274344980716705 ... 639.9891967773438\n",
       "      0.07422301173210144       0.05045193433761597 ... 643.9320678710938\n",
       "      0.09114663302898407       0.06126072257757187 ... 625.9315795898438\n",
       "      0.06932525336742401       0.04725001007318497 ... 625.0316162109375"
      ]
     },
     "execution_count": 165,
     "metadata": {},
     "output_type": "execute_result"
    }
   ],
   "source": [
    "halo_catalog"
   ]
  },
  {
   "cell_type": "code",
   "execution_count": 166,
   "metadata": {},
   "outputs": [],
   "source": [
    "import sys\n",
    "sys.path.insert(0, '/global/u2/f/flanusse/.local/lib/python3.7/site-packages/')\n",
    "\n",
    "import halotools\n",
    "import halotools_ia\n",
    "from halotools_ia.correlation_functions import ed_3d,ee_3d, ed_3d_one_two_halo_decomp"
   ]
  },
  {
   "cell_type": "code",
   "execution_count": 167,
   "metadata": {},
   "outputs": [],
   "source": [
    "halo_coords = np.vstack((halo_catalog['x'],\n",
    "                         halo_catalog['y'],\n",
    "                         halo_catalog['z'])).T\n",
    "\n",
    "halo_orientations = np.vstack((halo_catalog['target_halo_axis_A_x'],\n",
    "                               halo_catalog['target_halo_axis_A_y'],\n",
    "                               halo_catalog['target_halo_axis_A_z'])).T\n",
    "\n",
    "mask = (np.log10(halo_catalog['halo_mass'])>13)"
   ]
  },
  {
   "cell_type": "code",
   "execution_count": 168,
   "metadata": {},
   "outputs": [
    {
     "name": "stdout",
     "output_type": "stream",
     "text": [
      "number of halos 2481\n"
     ]
    }
   ],
   "source": [
    "print(\"number of halos\", len(halo_coords[mask]))"
   ]
  },
  {
   "cell_type": "code",
   "execution_count": 169,
   "metadata": {},
   "outputs": [],
   "source": [
    "from halotools_ia.correlation_functions import ed_3d, ee_3d\n",
    "rbins = np.logspace(-1,1.4,12)\n",
    "rbin_centers = (rbins[:-1]+rbins[1:])/2.0"
   ]
  },
  {
   "cell_type": "code",
   "execution_count": 170,
   "metadata": {},
   "outputs": [],
   "source": [
    "# calculate alignment correlation functions for the haloes\n",
    "halo_eta1 = ed_3d(halo_coords[mask], halo_orientations[mask], halo_coords[mask],\n",
    "                 rbins)\n",
    "halo_omega1 = ee_3d(halo_coords[mask], halo_orientations[mask], halo_coords[mask], halo_orientations[mask],\n",
    "                   rbins)"
   ]
  },
  {
   "cell_type": "code",
   "execution_count": 171,
   "metadata": {},
   "outputs": [
    {
     "data": {
      "image/png": "[encoded data removed]",
      "text/plain": [
       "<Figure size 237.6x237.6 with 1 Axes>"
      ]
     },
     "metadata": {
      "needs_background": "light"
     },
     "output_type": "display_data"
    },
    {
     "data": {
      "image/png": "[encoded data removed]",
      "text/plain": [
       "<Figure size 237.6x237.6 with 1 Axes>"
      ]
     },
     "metadata": {
      "needs_background": "light"
     },
     "output_type": "display_data"
    }
   ],
   "source": [
    "fig, ax = plt.subplots(figsize=(3.3,3.3))\n",
    "fig.subplots_adjust(left=0.2, right=0.9, bottom=0.2, top=0.9)\n",
    "p2, = plt.plot(rbin_centers, halo_eta1, '-')\n",
    "plt.xscale('log')\n",
    "plt.yscale('log')\n",
    "plt.xlabel(r'$r~[h^{-1}\\rm Mpc]$')\n",
    "plt.ylabel(r'$\\omega(r)$')\n",
    "plt.legend([p2],['haloes'], frameon=False, loc='upper right', fontsize=10)\n",
    "plt.show()\n",
    "\n",
    "\n",
    "fig, ax  = plt.subplots(figsize=(3.3,3.3))\n",
    "fig.subplots_adjust(left=0.2, right=0.9, bottom=0.2, top=0.9)\n",
    "p2, = plt.plot(rbin_centers, halo_omega1, '-')\n",
    "plt.xscale('log')\n",
    "plt.yscale('log')\n",
    "plt.xlabel(r'$r~[h^{-1}\\rm Mpc]$')\n",
    "plt.ylabel(r'$\\eta(r)$')\n",
    "plt.legend([p2],['haloes'], frameon=False, loc='upper right', fontsize=10)\n",
    "plt.show()"
   ]
  },
  {
   "cell_type": "code",
   "execution_count": 172,
   "metadata": {},
   "outputs": [
    {
     "data": {
      "image/png": "[encoded data removed]",
      "text/plain": [
       "<Figure size 432x288 with 1 Axes>"
      ]
     },
     "metadata": {
      "needs_background": "light"
     },
     "output_type": "display_data"
    }
   ],
   "source": [
    "hist2d(halo_catalog['x'][mask], halo_catalog['y'][mask],128);"
   ]
  },
  {
   "cell_type": "code",
   "execution_count": 173,
   "metadata": {},
   "outputs": [
    {
     "data": {
      "image/png": "[encoded data removed]",
      "text/plain": [
       "<Figure size 432x288 with 1 Axes>"
      ]
     },
     "metadata": {
      "needs_background": "light"
     },
     "output_type": "display_data"
    }
   ],
   "source": [
    "hist2d(halo_catalog['x'][mask], halo_catalog['z'][mask],128);"
   ]
  },
  {
   "cell_type": "code",
   "execution_count": 174,
   "metadata": {},
   "outputs": [],
   "source": [
    "from halotools.sim_manager import CachedHaloCatalog\n",
    "halocat = CachedHaloCatalog(simname='bolshoi', halo_finder='rockstar', redshift=0.84, version_name='halotools_v0p4')"
   ]
  },
  {
   "cell_type": "code",
   "execution_count": 175,
   "metadata": {},
   "outputs": [],
   "source": [
    "# Halo coordinates and orientations\n",
    "mask = (halocat.halo_table['halo_mpeak']>10**13) & (halocat.halo_table['halo_upid'] <0)\n",
    "halo_coords = np.vstack((halocat.halo_table['halo_x'],\n",
    "                           halocat.halo_table['halo_y'],\n",
    "                           halocat.halo_table['halo_z'])).T\n",
    "\n",
    "halo_orientations = np.vstack((halocat.halo_table['halo_axisA_x'],\n",
    "                                 halocat.halo_table['halo_axisA_y'],\n",
    "                                 halocat.halo_table['halo_axisA_z'])).T"
   ]
  },
  {
   "cell_type": "code",
   "execution_count": 176,
   "metadata": {},
   "outputs": [
    {
     "name": "stdout",
     "output_type": "stream",
     "text": [
      "Number of halos remaining: 3293\n"
     ]
    }
   ],
   "source": [
    "print(\"Number of halos remaining:\", len(halo_coords[mask]))"
   ]
  },
  {
   "cell_type": "code",
   "execution_count": 177,
   "metadata": {},
   "outputs": [],
   "source": [
    "# calculate alignment correlation functions for the haloes\n",
    "halo_eta2 = ed_3d(halo_coords[mask], halo_orientations[mask], halo_coords[mask],\n",
    "                 rbins, period=halocat.Lbox)\n",
    "halo_omega2 = ee_3d(halo_coords[mask], halo_orientations[mask], halo_coords[mask], halo_orientations[mask],\n",
    "                   rbins, period=halocat.Lbox)"
   ]
  },
  {
   "cell_type": "code",
   "execution_count": 178,
   "metadata": {},
   "outputs": [
    {
     "data": {
      "image/png": "[encoded data removed]",
      "text/plain": [
       "<Figure size 237.6x237.6 with 1 Axes>"
      ]
     },
     "metadata": {
      "needs_background": "light"
     },
     "output_type": "display_data"
    },
    {
     "data": {
      "image/png": "[encoded data removed]",
      "text/plain": [
       "<Figure size 237.6x237.6 with 1 Axes>"
      ]
     },
     "metadata": {
      "needs_background": "light"
     },
     "output_type": "display_data"
    }
   ],
   "source": [
    "fig, ax = plt.subplots(figsize=(3.3,3.3))\n",
    "fig.subplots_adjust(left=0.2, right=0.9, bottom=0.2, top=0.9)\n",
    "p1, = plt.plot(rbin_centers, halo_eta1, 'o', color='blue', mec='none')\n",
    "p2, = plt.plot(rbin_centers, halo_eta2, '-')\n",
    "plt.xscale('log')\n",
    "plt.yscale('log')\n",
    "plt.xlabel(r'$r~[h^{-1}\\rm Mpc]$')\n",
    "plt.ylabel(r'$\\omega(r)$')\n",
    "plt.legend([p1,p2],['Base5000','Bolshoi'], frameon=False, loc='upper right', fontsize=10)\n",
    "plt.show()\n",
    "\n",
    "fig, ax  = plt.subplots(figsize=(3.3,3.3))\n",
    "fig.subplots_adjust(left=0.2, right=0.9, bottom=0.2, top=0.9)\n",
    "p1, = plt.plot(rbin_centers, halo_eta1, 'o', color='blue', mec='none')\n",
    "p2, = plt.plot(rbin_centers, halo_omega2, '-')\n",
    "plt.xscale('log')\n",
    "plt.yscale('log')\n",
    "plt.xlabel(r'$r~[h^{-1}\\rm Mpc]$')\n",
    "plt.ylabel(r'$\\eta(r)$')\n",
    "plt.legend([p1,p2],['Base5000','Bolshoi'], frameon=False, loc='upper right', fontsize=10)\n",
    "plt.show()\n"
   ]
  }
 ],
 "metadata": {
  "kernelspec": {
   "display_name": "desc-python",
   "language": "python",
   "name": "desc-python"
  },
  "language_info": {
   "codemirror_mode": {
    "name": "ipython",
    "version": 3
   },
   "file_extension": ".py",
   "mimetype": "text/x-python",
   "name": "python",
   "nbconvert_exporter": "python",
   "pygments_lexer": "ipython3",
   "version": "3.7.6"
  }
 },
 "nbformat": 4,
 "nbformat_minor": 4
}
